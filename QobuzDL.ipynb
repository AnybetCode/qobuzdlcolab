//Disclaimer: You have to have an active studio subscription to download any song on any quality.

//Verifying if Python is installed
!python --version

//Verifying if Pip is installed
!pip --version

//Installing Qobuz-DL on Google Colab server
pip install --upgrade qobuz-dl

//Setting Up for first time Qobuz-DL
!qobuz-dl

//Download a song with its cover.jpg embedded
!qobuz-dl dl Qobuz_URL_of_your_song --embed-art